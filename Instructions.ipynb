{
 "cells": [
  {
   "cell_type": "markdown",
   "metadata": {},
   "source": [
    "## Observations and Insights "
   ]
  },
  {
   "cell_type": "markdown",
   "metadata": {},
   "source": []
  },
  {
   "cell_type": "code",
   "execution_count": 2,
   "metadata": {},
   "outputs": [
    {
     "data": {
      "text/html": [
       "<div>\n",
       "<style scoped>\n",
       "    .dataframe tbody tr th:only-of-type {\n",
       "        vertical-align: middle;\n",
       "    }\n",
       "\n",
       "    .dataframe tbody tr th {\n",
       "        vertical-align: top;\n",
       "    }\n",
       "\n",
       "    .dataframe thead th {\n",
       "        text-align: right;\n",
       "    }\n",
       "</style>\n",
       "<table border=\"1\" class=\"dataframe\">\n",
       "  <thead>\n",
       "    <tr style=\"text-align: right;\">\n",
       "      <th></th>\n",
       "      <th>Mouse ID</th>\n",
       "      <th>Drug Regimen</th>\n",
       "      <th>Sex</th>\n",
       "      <th>Age_months</th>\n",
       "      <th>Weight (g)</th>\n",
       "      <th>Timepoint</th>\n",
       "      <th>Tumor Volume (mm3)</th>\n",
       "      <th>Metastatic Sites</th>\n",
       "    </tr>\n",
       "  </thead>\n",
       "  <tbody>\n",
       "    <tr>\n",
       "      <th>0</th>\n",
       "      <td>k403</td>\n",
       "      <td>Ramicane</td>\n",
       "      <td>Male</td>\n",
       "      <td>21</td>\n",
       "      <td>16</td>\n",
       "      <td>0</td>\n",
       "      <td>45.000000</td>\n",
       "      <td>0</td>\n",
       "    </tr>\n",
       "    <tr>\n",
       "      <th>1</th>\n",
       "      <td>k403</td>\n",
       "      <td>Ramicane</td>\n",
       "      <td>Male</td>\n",
       "      <td>21</td>\n",
       "      <td>16</td>\n",
       "      <td>5</td>\n",
       "      <td>38.825898</td>\n",
       "      <td>0</td>\n",
       "    </tr>\n",
       "    <tr>\n",
       "      <th>2</th>\n",
       "      <td>k403</td>\n",
       "      <td>Ramicane</td>\n",
       "      <td>Male</td>\n",
       "      <td>21</td>\n",
       "      <td>16</td>\n",
       "      <td>10</td>\n",
       "      <td>35.014271</td>\n",
       "      <td>1</td>\n",
       "    </tr>\n",
       "    <tr>\n",
       "      <th>3</th>\n",
       "      <td>k403</td>\n",
       "      <td>Ramicane</td>\n",
       "      <td>Male</td>\n",
       "      <td>21</td>\n",
       "      <td>16</td>\n",
       "      <td>15</td>\n",
       "      <td>34.223992</td>\n",
       "      <td>1</td>\n",
       "    </tr>\n",
       "    <tr>\n",
       "      <th>4</th>\n",
       "      <td>k403</td>\n",
       "      <td>Ramicane</td>\n",
       "      <td>Male</td>\n",
       "      <td>21</td>\n",
       "      <td>16</td>\n",
       "      <td>20</td>\n",
       "      <td>32.997729</td>\n",
       "      <td>1</td>\n",
       "    </tr>\n",
       "  </tbody>\n",
       "</table>\n",
       "</div>"
      ],
      "text/plain": [
       "  Mouse ID Drug Regimen   Sex  Age_months  Weight (g)  Timepoint  \\\n",
       "0     k403     Ramicane  Male          21          16          0   \n",
       "1     k403     Ramicane  Male          21          16          5   \n",
       "2     k403     Ramicane  Male          21          16         10   \n",
       "3     k403     Ramicane  Male          21          16         15   \n",
       "4     k403     Ramicane  Male          21          16         20   \n",
       "\n",
       "   Tumor Volume (mm3)  Metastatic Sites  \n",
       "0           45.000000                 0  \n",
       "1           38.825898                 0  \n",
       "2           35.014271                 1  \n",
       "3           34.223992                 1  \n",
       "4           32.997729                 1  "
      ]
     },
     "execution_count": 2,
     "metadata": {},
     "output_type": "execute_result"
    }
   ],
   "source": [
    "# Dependencies and Setup\n",
    "import matplotlib.pyplot as plt\n",
    "import pandas as pd\n",
    "import scipy.stats as st\n",
    "from scipy.stats import sem\n",
    "from scipy.stats import linregress\n",
    "\n",
    "# Study data files\n",
    "mouse_metadata_path = \"data/Mouse_metadata.csv\"\n",
    "study_results_path = \"data/Study_results.csv\"\n",
    "\n",
    "# Read the mouse data and the study results\n",
    "mouse_metadata = pd.read_csv(mouse_metadata_path)\n",
    "study_results = pd.read_csv(study_results_path)\n",
    "\n",
    "# Combine the data into a single dataset\n",
    "mouse_merge_df = pd.merge(mouse_metadata, study_results, on=\"Mouse ID\")\n",
    "# Display the data table for preview\n",
    "mouse_merge_df.head()"
   ]
  },
  {
   "cell_type": "code",
   "execution_count": 3,
   "metadata": {},
   "outputs": [
    {
     "data": {
      "text/plain": [
       "1893"
      ]
     },
     "execution_count": 3,
     "metadata": {},
     "output_type": "execute_result"
    }
   ],
   "source": [
    "# Checking the number of mice.\n",
    "mouse_merge_df['Mouse ID'].count()"
   ]
  },
  {
   "cell_type": "code",
   "execution_count": 4,
   "metadata": {},
   "outputs": [
    {
     "data": {
      "text/plain": [
       "5"
      ]
     },
     "execution_count": 4,
     "metadata": {},
     "output_type": "execute_result"
    }
   ],
   "source": [
    "# Getting the duplicate mice by ID number that shows up for Mouse ID and Timepoint. \n",
    "duplicates = mouse_merge_df.duplicated(subset=['Mouse ID', 'Timepoint'])\n",
    "duplicates.sum()"
   ]
  },
  {
   "cell_type": "code",
   "execution_count": 5,
   "metadata": {},
   "outputs": [
    {
     "name": "stdout",
     "output_type": "stream",
     "text": [
      "    Mouse ID Drug Regimen     Sex  Age_months  Weight (g)  Timepoint  \\\n",
      "909     g989     Propriva  Female          21          26          0   \n",
      "911     g989     Propriva  Female          21          26          5   \n",
      "913     g989     Propriva  Female          21          26         10   \n",
      "915     g989     Propriva  Female          21          26         15   \n",
      "917     g989     Propriva  Female          21          26         20   \n",
      "\n",
      "     Tumor Volume (mm3)  Metastatic Sites  \n",
      "909           45.000000                 0  \n",
      "911           47.570392                 0  \n",
      "913           49.880528                 0  \n",
      "915           53.442020                 0  \n",
      "917           54.657650                 1  \n"
     ]
    }
   ],
   "source": [
    "# Optional: Get all the data for the duplicate mouse ID. \n",
    "mouse_merge_df.loc[duplicates, :]\n",
    "print(mouse_merge_df.loc[duplicates, :])"
   ]
  },
  {
   "cell_type": "code",
   "execution_count": 6,
   "metadata": {},
   "outputs": [],
   "source": [
    "# Create a clean DataFrame by dropping the duplicate mouse by its ID.\n",
    "clean_mouse_data = mouse_merge_df.drop_duplicates(subset= ['Mouse ID','Timepoint'], keep='first')"
   ]
  },
  {
   "cell_type": "code",
   "execution_count": 7,
   "metadata": {},
   "outputs": [
    {
     "data": {
      "text/plain": [
       "1888"
      ]
     },
     "execution_count": 7,
     "metadata": {},
     "output_type": "execute_result"
    }
   ],
   "source": [
    "# Checking the number of mice in the clean DataFrame.\n",
    "clean_mouse_data['Mouse ID'].count()"
   ]
  },
  {
   "cell_type": "markdown",
   "metadata": {},
   "source": [
    "## Summary Statistics"
   ]
  },
  {
   "cell_type": "code",
   "execution_count": 8,
   "metadata": {},
   "outputs": [],
   "source": [
    "# Generate a summary statistics table of mean, median, variance, standard deviation, and SEM of the tumor volume for each regimen\n",
    "\n",
    "# Use groupby and summary statistical methods to calculate the following properties of each drug regimen:\n",
    "mouse_regimens_df = clean_mouse_data.groupby('Drug Regimen')"
   ]
  },
  {
   "cell_type": "code",
   "execution_count": 9,
   "metadata": {},
   "outputs": [],
   "source": [
    "# mean, median, variance, and standard deviation of the tumor volume.\n",
    "TV_mean = mouse_regimens_df['Tumor Volume (mm3)'].mean()\n",
    "TV_median = mouse_regimens_df['Tumor Volume (mm3)'].median()\n",
    "TV_variance = mouse_regimens_df['Tumor Volume (mm3)'].var()\n",
    "TV_SD = mouse_regimens_df['Tumor Volume (mm3)'].std()"
   ]
  },
  {
   "cell_type": "code",
   "execution_count": 10,
   "metadata": {},
   "outputs": [],
   "source": [
    "# Calculate SEM\n",
    "TV_sample = mouse_regimens_df['Tumor Volume (mm3)'].sample(20)\n",
    "TV_SEM = sem(TV_sample)"
   ]
  },
  {
   "cell_type": "code",
   "execution_count": 11,
   "metadata": {},
   "outputs": [
    {
     "name": "stdout",
     "output_type": "stream",
     "text": [
      "                   Mean     Median   Variance  Standard Deviation       SEM\n",
      "Drug Regimen                                                               \n",
      "Capomulin     40.675741  41.557809  24.947764            4.994774  0.614119\n",
      "Ceftamin      52.591172  51.776157  39.290177            6.268188  0.614119\n",
      "Infubinol     52.884795  51.820584  43.128684            6.567243  0.614119\n",
      "Ketapril      55.235638  53.698743  68.553577            8.279709  0.614119\n",
      "Naftisol      54.331565  52.509285  66.173479            8.134708  0.614119\n",
      "Placebo       54.033581  52.288934  61.168083            7.821003  0.614119\n",
      "Propriva      52.393463  50.909965  43.138803            6.568014  0.614119\n",
      "Ramicane      40.216745  40.673236  23.486704            4.846308  0.614119\n",
      "Stelasyn      54.233149  52.431737  59.450562            7.710419  0.614119\n",
      "Zoniferol     53.236507  51.818479  48.533355            6.966589  0.614119\n"
     ]
    }
   ],
   "source": [
    "# Assemble the resulting series into a single summary dataframe.\n",
    "TV_stats_df = pd.DataFrame({\n",
    "    \"Mean\": TV_mean,\n",
    "    \"Median\": TV_median,\n",
    "    \"Variance\": TV_variance,\n",
    "    \"Standard Deviation\": TV_SD,\n",
    "    \"SEM\": TV_SEM\n",
    "})\n",
    "\n",
    "print(TV_stats_df)"
   ]
  },
  {
   "cell_type": "code",
   "execution_count": 12,
   "metadata": {},
   "outputs": [],
   "source": [
    "# Generate a summary statistics table of mean, median, variance, standard deviation, and SEM of the tumor volume for each regimen\n",
    "\n",
    "# Using the aggregation method, produce the same summary statistics in a single line\n"
   ]
  },
  {
   "cell_type": "markdown",
   "metadata": {},
   "source": [
    "## Bar and Pie Charts"
   ]
  },
  {
   "cell_type": "code",
   "execution_count": 13,
   "metadata": {},
   "outputs": [
    {
     "data": {
      "text/plain": [
       "<AxesSubplot:>"
      ]
     },
     "execution_count": 13,
     "metadata": {},
     "output_type": "execute_result"
    },
    {
     "data": {
      "image/png": "[encoded data removed]",
      "text/plain": [
       "<Figure size 432x288 with 1 Axes>"
      ]
     },
     "metadata": {
      "needs_background": "light"
     },
     "output_type": "display_data"
    }
   ],
   "source": [
    "# Generate a bar plot showing the total number of timepoints for all mice tested for each drug regimen using Pandas.\n",
    "timepoint_sum = mouse_regimens_df['Timepoint'].count()\n",
    "drug_regimens = [\"Capomulin\", \"Ceftamin\", \"Infubinol\", \"Ketapril\", \"Naftisol\", \"Placebo\", \"Propriva\", \"Ramicane\", \"Stelasyn\", \"Zoniferol\"]\n",
    "timepoint_bargraph_df = pd.DataFrame({\"Total timepoints\": timepoint_sum}, index = drug_regimens)\n",
    "timepoint_bargraph_df.plot.bar(rot=0)\n"
   ]
  },
  {
   "cell_type": "code",
   "execution_count": 14,
   "metadata": {},
   "outputs": [
    {
     "data": {
      "text/plain": [
       "Text(0, 0.5, 'Number of Timepoints')"
      ]
     },
     "execution_count": 14,
     "metadata": {},
     "output_type": "execute_result"
    },
    {
     "data": {
      "image/png": "[encoded data removed]",
      "text/plain": [
       "<Figure size 720x216 with 1 Axes>"
      ]
     },
     "metadata": {
      "needs_background": "light"
     },
     "output_type": "display_data"
    }
   ],
   "source": [
    "# Generate a bar plot showing the total number of timepoints for all mice tested for each drug regimen using pyplot.\n",
    "plt.figure(figsize=(10,3))\n",
    "plt.bar(drug_regimens, timepoint_sum, color='b', alpha=0.5, align=\"center\")\n",
    "plt.title(\"Total number of timepoints for all mice\")\n",
    "plt.xlabel(\"Drug Regimen\")\n",
    "plt.ylabel(\"Number of Timepoints\")"
   ]
  },
  {
   "cell_type": "code",
   "execution_count": 15,
   "metadata": {},
   "outputs": [
    {
     "name": "stdout",
     "output_type": "stream",
     "text": [
      "Male      958\n",
      "Female    930\n",
      "Name: Sex, dtype: int64\n"
     ]
    }
   ],
   "source": [
    "# Generate a pie plot showing the distribution of female versus male mice using Pandas\n",
    "gender = clean_mouse_data['Sex'].value_counts()\n",
    "print(gender)"
   ]
  },
  {
   "cell_type": "code",
   "execution_count": 16,
   "metadata": {},
   "outputs": [
    {
     "data": {
      "text/plain": [
       "<AxesSubplot:ylabel='Sex'>"
      ]
     },
     "execution_count": 16,
     "metadata": {},
     "output_type": "execute_result"
    },
    {
     "data": {
      "image/png": "[encoded data removed]",
      "text/plain": [
       "<Figure size 360x360 with 1 Axes>"
      ]
     },
     "metadata": {},
     "output_type": "display_data"
    }
   ],
   "source": [
    "gender.plot.pie(y='Sex', figsize=(5,5))"
   ]
  },
  {
   "cell_type": "code",
   "execution_count": 17,
   "metadata": {},
   "outputs": [
    {
     "data": {
      "text/plain": [
       "Text(0.5, 1.0, 'Division of Lab Mice by Sex')"
      ]
     },
     "execution_count": 17,
     "metadata": {},
     "output_type": "execute_result"
    },
    {
     "data": {
      "image/png": "[encoded data removed]",
      "text/plain": [
       "<Figure size 432x288 with 1 Axes>"
      ]
     },
     "metadata": {},
     "output_type": "display_data"
    }
   ],
   "source": [
    "# Generate a pie plot showing the distribution of female versus male mice using pyplot\n",
    "labels = ['Male', 'Female']\n",
    "sizes = [958, 930]\n",
    "colors = [\"blue\", \"pink\"]\n",
    "plt.pie(sizes, labels=labels, colors=colors)\n",
    "plt.title(\"Division of Lab Mice by Sex\")"
   ]
  },
  {
   "cell_type": "markdown",
   "metadata": {},
   "source": [
    "## Quartiles, Outliers and Boxplots"
   ]
  },
  {
   "cell_type": "code",
   "execution_count": 18,
   "metadata": {},
   "outputs": [
    {
     "name": "stdout",
     "output_type": "stream",
     "text": [
      "               Mouse ID Drug Regimen     Sex  Age_months  Weight (g)  \\\n",
      "Capomulin 10       s185    Capomulin  Female           3          17   \n",
      "          11       s185    Capomulin  Female           3          17   \n",
      "          12       s185    Capomulin  Female           3          17   \n",
      "          13       s185    Capomulin  Female           3          17   \n",
      "          14       s185    Capomulin  Female           3          17   \n",
      "...                 ...          ...     ...         ...         ...   \n",
      "Ceftamin  1851     y865     Ceftamin    Male          23          26   \n",
      "          1852     y865     Ceftamin    Male          23          26   \n",
      "          1853     y865     Ceftamin    Male          23          26   \n",
      "          1854     y865     Ceftamin    Male          23          26   \n",
      "          1855     y865     Ceftamin    Male          23          26   \n",
      "\n",
      "                Timepoint  Tumor Volume (mm3)  Metastatic Sites  \n",
      "Capomulin 10            0           45.000000                 0  \n",
      "          11            5           43.878496                 0  \n",
      "          12           10           37.614948                 0  \n",
      "          13           15           38.177232                 0  \n",
      "          14           20           36.866876                 0  \n",
      "...                   ...                 ...               ...  \n",
      "Ceftamin  1851         25           57.173538                 2  \n",
      "          1852         30           59.033275                 3  \n",
      "          1853         35           61.153140                 3  \n",
      "          1854         40           63.469549                 3  \n",
      "          1855         45           64.729837                 3  \n",
      "\n",
      "[814 rows x 8 columns]\n"
     ]
    }
   ],
   "source": [
    "# Calculate the final tumor volume of each mouse across four of the treatment regimens:  \n",
    "# Capomulin, Ramicane, Infubinol, and Ceftamin\n",
    "Capomulin = mouse_regimens_df.get_group('Capomulin')\n",
    "Ramicane = mouse_regimens_df.get_group('Ramicane')\n",
    "Infubinol = mouse_regimens_df.get_group('Infubinol')\n",
    "Ceftamin = mouse_regimens_df.get_group('Ceftamin')\n",
    "\n",
    "mouse_regimens_2 = pd.concat({\n",
    "    'Capomulin': Capomulin,\n",
    "    'Ramicane': Ramicane,\n",
    "    'Infubinol': Infubinol,\n",
    "    'Ceftamin': Ceftamin\n",
    "})\n",
    "\n",
    "print(mouse_regimens_2)"
   ]
  },
  {
   "cell_type": "code",
   "execution_count": 19,
   "metadata": {},
   "outputs": [
    {
     "name": "stdout",
     "output_type": "stream",
     "text": [
      "               Mouse ID Drug Regimen     Sex  Age_months  Weight (g)  \\\n",
      "Capomulin 19       s185    Capomulin  Female           3          17   \n",
      "          29       x401    Capomulin  Female          16          15   \n",
      "          39       m601    Capomulin    Male          22          17   \n",
      "          104      u364    Capomulin    Male          18          17   \n",
      "          124      y793    Capomulin    Male          17          17   \n",
      "...                 ...          ...     ...         ...         ...   \n",
      "Ceftamin  1670     w151     Ceftamin    Male          24          25   \n",
      "          1773     x581     Ceftamin  Female          19          28   \n",
      "          1797     x822     Ceftamin    Male           3          29   \n",
      "          1845     y769     Ceftamin  Female           6          27   \n",
      "          1855     y865     Ceftamin    Male          23          26   \n",
      "\n",
      "                Timepoint  Tumor Volume (mm3)  Metastatic Sites  \n",
      "Capomulin 19           45           23.343598                 1  \n",
      "          29           45           28.484033                 0  \n",
      "          39           45           28.430964                 1  \n",
      "          104          45           31.023923                 3  \n",
      "          124          45           31.896238                 2  \n",
      "...                   ...                 ...               ...  \n",
      "Ceftamin  1670         45           67.527482                 3  \n",
      "          1773         45           64.634949                 3  \n",
      "          1797         45           61.386660                 3  \n",
      "          1845         45           68.594745                 4  \n",
      "          1855         45           64.729837                 3  \n",
      "\n",
      "[63 rows x 8 columns]\n"
     ]
    }
   ],
   "source": [
    "# Start by getting the last (greatest) timepoint for each mouse\n",
    "final_timepoint = mouse_regimens_2['Timepoint'].max()\n",
    "time_group = mouse_regimens_2.groupby('Timepoint')\n",
    "final_volume_group = time_group.get_group(45)\n",
    "print(final_volume_group)\n",
    "# Merge this group df with the original dataframe to get the tumor volume at the last timepoint"
   ]
  },
  {
   "cell_type": "code",
   "execution_count": 20,
   "metadata": {},
   "outputs": [
    {
     "name": "stdout",
     "output_type": "stream",
     "text": [
      "The lower quartile of tumor volume is: 33.48002734\n",
      "The upper quartile of tumor volume is: 62.14221369\n",
      "The interquartile range of tumor volume is: 28.66218635\n"
     ]
    }
   ],
   "source": [
    "# Put treatments into a list for for loop (and later for plot labels)\n",
    "treatments = ['Capomulin','Ramicane', 'Infubinol', 'Ceftamin']\n",
    "\n",
    "# Create empty list to fill with tumor vol data (for plotting)\n",
    "tumor_vol_data = []\n",
    "\n",
    "# Calculate the IQR and quantitatively determine if there are any potential outliers. \n",
    "quartiles = final_volume_group['Tumor Volume (mm3)'].quantile([.25,.5,.75])\n",
    "lowerq = quartiles[0.25]\n",
    "upperq = quartiles[0.75]\n",
    "iqr = upperq-lowerq\n",
    "\n",
    "print(f'The lower quartile of tumor volume is: {lowerq}')\n",
    "print(f'The upper quartile of tumor volume is: {upperq}')\n",
    "print(f'The interquartile range of tumor volume is: {iqr}')\n",
    "\n",
    "    \n",
    "    # Locate the rows which contain mice on each drug and get the tumor volumes\n",
    "    \n",
    "    \n",
    "    # add subset \n",
    "    "
   ]
  },
  {
   "cell_type": "code",
   "execution_count": 21,
   "metadata": {},
   "outputs": [
    {
     "data": {
      "text/html": [
       "<div>\n",
       "<style scoped>\n",
       "    .dataframe tbody tr th:only-of-type {\n",
       "        vertical-align: middle;\n",
       "    }\n",
       "\n",
       "    .dataframe tbody tr th {\n",
       "        vertical-align: top;\n",
       "    }\n",
       "\n",
       "    .dataframe thead th {\n",
       "        text-align: right;\n",
       "    }\n",
       "</style>\n",
       "<table border=\"1\" class=\"dataframe\">\n",
       "  <thead>\n",
       "    <tr style=\"text-align: right;\">\n",
       "      <th></th>\n",
       "      <th></th>\n",
       "      <th>Mouse ID</th>\n",
       "      <th>Drug Regimen</th>\n",
       "      <th>Sex</th>\n",
       "      <th>Age_months</th>\n",
       "      <th>Weight (g)</th>\n",
       "      <th>Timepoint</th>\n",
       "      <th>Tumor Volume (mm3)</th>\n",
       "      <th>Metastatic Sites</th>\n",
       "    </tr>\n",
       "  </thead>\n",
       "  <tbody>\n",
       "  </tbody>\n",
       "</table>\n",
       "</div>"
      ],
      "text/plain": [
       "Empty DataFrame\n",
       "Columns: [Mouse ID, Drug Regimen, Sex, Age_months, Weight (g), Timepoint, Tumor Volume (mm3), Metastatic Sites]\n",
       "Index: []"
      ]
     },
     "execution_count": 21,
     "metadata": {},
     "output_type": "execute_result"
    }
   ],
   "source": [
    "    # Determine outliers using upper and lower bounds\n",
    "lower_bound = lowerq - (1.5*iqr)\n",
    "upper_bound = upperq + (1.5*iqr)\n",
    "\n",
    "outlier_tv = final_volume_group.loc[(final_volume_group['Tumor Volume (mm3)'] < lower_bound) | (final_volume_group['Tumor Volume (mm3)'] > upper_bound)]\n",
    "outlier_tv"
   ]
  },
  {
   "cell_type": "code",
   "execution_count": 22,
   "metadata": {},
   "outputs": [
    {
     "data": {
      "image/png": "[encoded data removed]",
      "text/plain": [
       "<Figure size 432x288 with 1 Axes>"
      ]
     },
     "metadata": {
      "needs_background": "light"
     },
     "output_type": "display_data"
    }
   ],
   "source": [
    "# Generate a box plot of the final tumor volume of each mouse across four regimens of interest\n",
    "tumor_volume = final_volume_group['Tumor Volume (mm3)']\n",
    "\n",
    "fig1, ax1 = plt.subplots()\n",
    "ax1.set_title('Final Tumor Volumes')\n",
    "ax1.set_ylabel('Volume in milimeters')\n",
    "ax1.boxplot(tumor_volume)\n",
    "plt.show()\n"
   ]
  },
  {
   "cell_type": "markdown",
   "metadata": {},
   "source": [
    "## Line and Scatter Plots"
   ]
  },
  {
   "cell_type": "code",
   "execution_count": 23,
   "metadata": {},
   "outputs": [
    {
     "data": {
      "text/plain": [
       "Text(0, 0.5, 'Tumor Volume in Milimeters')"
      ]
     },
     "execution_count": 23,
     "metadata": {},
     "output_type": "execute_result"
    },
    {
     "data": {
      "image/png": "[encoded data removed]",
      "text/plain": [
       "<Figure size 432x288 with 1 Axes>"
      ]
     },
     "metadata": {
      "needs_background": "light"
     },
     "output_type": "display_data"
    }
   ],
   "source": [
    "# Generate a line plot of tumor volume vs. time point for a mouse treated with Capomulin\n",
    "mouse = clean_mouse_data.loc[clean_mouse_data['Mouse ID']=='v923']\n",
    "Capomulin_x_axis = mouse['Timepoint']\n",
    "Capomulin_y_var = mouse['Tumor Volume (mm3)']\n",
    "Capomulin_line, = plt.plot(Capomulin_x_axis, Capomulin_y_var, marker = 'o', color = 'blue', label = \"Tumor Volume\")\n",
    "plt.title(\"Tumor Volume vs. Time Point for Mouse v923\")\n",
    "plt.xlabel(\"Timepoint\")\n",
    "plt.ylabel(\"Tumor Volume in Milimeters\")\n"
   ]
  },
  {
   "cell_type": "code",
   "execution_count": 24,
   "metadata": {},
   "outputs": [
    {
     "data": {
      "image/png": "[encoded data removed]",
      "text/plain": [
       "<Figure size 432x288 with 1 Axes>"
      ]
     },
     "metadata": {
      "needs_background": "light"
     },
     "output_type": "display_data"
    }
   ],
   "source": [
    "# Generate a scatter plot of average tumor volume vs. mouse weight for the Capomulin regimen\n",
    "average_tv = Capomulin['Tumor Volume (mm3)']\n",
    "mouse_weight = Capomulin['Weight (g)']\n",
    "plt.scatter(average_tv, mouse_weight)\n",
    "plt.xlabel('Average Tumor Volume')\n",
    "plt.ylabel('Mouse Weight (in grams)')\n",
    "plt.show()\n"
   ]
  },
  {
   "cell_type": "markdown",
   "metadata": {},
   "source": [
    "## Correlation and Regression"
   ]
  },
  {
   "cell_type": "code",
   "execution_count": 25,
   "metadata": {},
   "outputs": [
    {
     "name": "stdout",
     "output_type": "stream",
     "text": [
      "(0.5256995552077165, 9.605446629502825e-18)\n"
     ]
    }
   ],
   "source": [
    "# Calculate the correlation coefficient and linear regression model \n",
    "# for mouse weight and average tumor volume for the Capomulin regimen\n",
    "correlation = st.pearsonr(average_tv, mouse_weight)\n",
    "print(correlation)"
   ]
  },
  {
   "cell_type": "code",
   "execution_count": 26,
   "metadata": {},
   "outputs": [
    {
     "name": "stdout",
     "output_type": "stream",
     "text": [
      "The r-squared is: 0.27636002234559165\n"
     ]
    },
    {
     "data": {
      "image/png": "[encoded data removed]",
      "text/plain": [
       "<Figure size 432x288 with 1 Axes>"
      ]
     },
     "metadata": {
      "needs_background": "light"
     },
     "output_type": "display_data"
    }
   ],
   "source": [
    "(slope, intercept, rvalue, pvalue, stderr) = linregress(average_tv, mouse_weight)\n",
    "regress_values = average_tv*slope + intercept\n",
    "line_eq = \"y = \" + str(round(slope, 2)) + \"x +\" + str(round(intercept, 2))\n",
    "plt.scatter(average_tv, mouse_weight)\n",
    "plt.plot(average_tv, regress_values, \"r-\")\n",
    "plt.annotate(line_eq, (6, 10), fontsize = 10, color = \"red\")\n",
    "plt.xlabel('Average Tumor Volume')\n",
    "plt.ylabel('Mouse Weight (in grams)')\n",
    "print(f'The r-squared is: {rvalue**2}')\n",
    "plt.show()\n"
   ]
  },
  {
   "cell_type": "code",
   "execution_count": null,
   "metadata": {},
   "outputs": [],
   "source": []
  }
 ],
 "metadata": {
  "anaconda-cloud": {},
  "kernelspec": {
   "display_name": "Python 3",
   "language": "python",
   "name": "python3"
  },
  "language_info": {
   "codemirror_mode": {
    "name": "ipython",
    "version": 3
   },
   "file_extension": ".py",
   "mimetype": "text/x-python",
   "name": "python",
   "nbconvert_exporter": "python",
   "pygments_lexer": "ipython3",
   "version": "3.7.10"
  }
 },
 "nbformat": 4,
 "nbformat_minor": 4
}
